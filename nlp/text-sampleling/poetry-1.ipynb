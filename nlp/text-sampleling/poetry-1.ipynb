{
  "nbformat": 4,
  "nbformat_minor": 0,
  "metadata": {
    "colab": {
      "name": "Untitled1.ipynb",
      "provenance": [],
      "collapsed_sections": []
    },
    "kernelspec": {
      "name": "python3",
      "display_name": "Python 3"
    },
    "accelerator": "GPU"
  },
  "cells": [
    {
      "cell_type": "code",
      "metadata": {
        "id": "VHDK9Mkn4DC_",
        "colab_type": "code",
        "colab": {}
      },
      "source": [
        "import tensorflow as tf\n",
        "\n",
        "from tensorflow.keras.preprocessing.sequence import pad_sequences\n",
        "from tensorflow.keras.layers import Embedding, LSTM, Dense, Bidirectional\n",
        "from tensorflow.keras.preprocessing.text import Tokenizer\n",
        "from tensorflow.keras.models import Sequential\n",
        "from tensorflow.keras.optimizers import Adam"
      ],
      "execution_count": 0,
      "outputs": []
    },
    {
      "cell_type": "code",
      "metadata": {
        "id": "A9nMJvCp5BVR",
        "colab_type": "code",
        "colab": {
          "base_uri": "https://localhost:8080/",
          "height": 71
        },
        "outputId": "f0ae49e2-bd69-4c40-d993-b34a96a5df08"
      },
      "source": [
        "tokenizer = Tokenizer()\n",
        "data = \"April is the cruellest month, breeding \\n  Lilacs out of the dead land, mixing \\n Memory and desire, stirring \\n Dull roots with spring rain. \\n Winter kept us warm, covering \\n Earth in forgetful snow, feeding \\n A little life with dried tubers. \\n Summer surprised us, coming over the Starnbergersee \\n  With a shower of rain; we stopped in the colonnade, \\n  And went on in sunlight, into the Hofgarten, \\n And drank coffee, and talked for an hour. \\n Bin gar keine Russin, stamm’ aus Litauen, echt deutsch. \\n And when we were children, staying at the arch-duke’s, \\n My cousin’s, he took me out on a sled, \\n And I was frightened. He said, Marie, \\n Marie, hold on tight. And down we went. \\n In the mountains, there you feel free. \\n I read, much of the night, and go south in the winter. \\n What are the roots that clutch, what branches grow \\n Out of this stony rubbish? Son of man, \\n You cannot say, or guess, for you know only \\n A heap of broken images, where the sun beats, \\n And the dead tree gives no shelter, the cricket no relief, \\n  And the dry stone no sound of water. Only \\n  There is shadow under this red rock, \\n (Come in under the shadow of this red rock), \\n And I will show you something different from either \\n Your shadow at morning striding behind you \\n Or your shadow at evening rising to meet you; \\n I will show you fear in a handful of dust. \\n Frisch weht der Wind \\n Der Heimat zu  \\n Mein Irisch Kind, \\n Wo weilest du? \\n You gave me hyacinths first a year ago; \\n They called me the hyacinth girl. \\n —Yet when we came back, late, from the Hyacinth garden, \\n Your arms full, and your hair wet, I could not \\n Speak, and my eyes failed, I was neither \\n Living nor dead, and I knew nothing, \\n  Looking into the heart of light, the silence. \\n Oed’ und leer das Meer. \\n  Madame Sosostris, famous clairvoyante, \\n Had a bad cold, nevertheless \\n Is known to be the wisest woman in Europe, \\n  With a wicked pack of cards. Here, said she, \\n Is your card, the drowned Phoenician Sailor, \\n (Those are pearls that were his eyes. Look!) \\n Here is Belladonna, the Lady of the Rocks, \\n The lady of situations. \\n Here is the man with three staves, and here the Wheel, \\n And here is the one-eyed merchant, and this card, \\n Which is blank, is something he carries on his back, \\n Which I am forbidden to see. I do not find \\n The Hanged Man. Fear death by water. \\n I see crowds of people, walking round in a ring. \\n Thank you. If you see dear Mrs. Equitone, \\n  Tell her I bring the horoscope myself: \\n One must be so careful these days. \\n Unreal City, \\n Under the brown fog of a winter dawn, \\n A crowd flowed over London Bridge, so many, \\n I had not thought death had undone so many. \\n Sighs, short and infrequent, were exhaled, \\n And each man fixed his eyes before his feet. \\n  Flowed up the hill and down King William Street, \\n To where Saint Mary Woolnoth kept the hours \\n With a dead sound on the final stroke of nine. \\n There I saw one I knew, and stopped him, crying: Stetson! \\n You who were with me in the ships at Mylae! \\n That corpse you planted last year in your garden, \\n Has it begun to sprout? Will it bloom this year? \\n Or has the sudden frost disturbed its bed? \\n Oh keep the Dog far hence, that’s friend to men, \\n Or with his nails he’ll dig it up again! \\n You! hypocrite lecteur!—mon semblable,—mon frère! \\n\"\n",
        "\n",
        "corpus = data.lower().split(\"\\n\")\n",
        "tokenizer.fit_on_texts(corpus)\n",
        "total_words = len(tokenizer.word_index) + 1\n",
        "\n",
        "print(total_words)\n",
        "print(tokenizer.word_index)"
      ],
      "execution_count": 3,
      "outputs": [
        {
          "output_type": "stream",
          "text": [
            "337\n",
            "{'the': 1, 'and': 2, 'of': 3, 'i': 4, 'you': 5, 'a': 6, 'in': 7, 'is': 8, 'with': 9, 'your': 10, 'to': 11, 'on': 12, 'this': 13, 'here': 14, 'his': 15, 'dead': 16, 'we': 17, 'were': 18, 'at': 19, 'me': 20, 'man': 21, 'or': 22, 'shadow': 23, 'out': 24, 'winter': 25, 'he': 26, 'there': 27, 'that': 28, 'no': 29, 'under': 30, 'will': 31, 'year': 32, 'not': 33, 'eyes': 34, 'had': 35, 'one': 36, 'see': 37, 'so': 38, 'it': 39, 'roots': 40, 'rain': 41, 'kept': 42, 'us': 43, 'over': 44, 'stopped': 45, 'went': 46, 'into': 47, 'for': 48, 'when': 49, 'my': 50, 'was': 51, 'said': 52, 'marie': 53, 'down': 54, 'what': 55, 'are': 56, 'only': 57, 'where': 58, 'sound': 59, 'water': 60, 'red': 61, 'rock': 62, 'show': 63, 'something': 64, 'from': 65, 'fear': 66, 'der': 67, 'hyacinth': 68, 'back': 69, 'garden': 70, 'knew': 71, 'be': 72, 'card': 73, 'lady': 74, 'which': 75, 'death': 76, 'flowed': 77, 'many': 78, 'up': 79, 'has': 80, '—mon': 81, 'april': 82, 'cruellest': 83, 'month': 84, 'breeding': 85, 'lilacs': 86, 'land': 87, 'mixing': 88, 'memory': 89, 'desire': 90, 'stirring': 91, 'dull': 92, 'spring': 93, 'warm': 94, 'covering': 95, 'earth': 96, 'forgetful': 97, 'snow': 98, 'feeding': 99, 'little': 100, 'life': 101, 'dried': 102, 'tubers': 103, 'summer': 104, 'surprised': 105, 'coming': 106, 'starnbergersee': 107, 'shower': 108, 'colonnade': 109, 'sunlight': 110, 'hofgarten': 111, 'drank': 112, 'coffee': 113, 'talked': 114, 'an': 115, 'hour': 116, 'bin': 117, 'gar': 118, 'keine': 119, 'russin': 120, 'stamm’': 121, 'aus': 122, 'litauen': 123, 'echt': 124, 'deutsch': 125, 'children': 126, 'staying': 127, 'arch': 128, 'duke’s': 129, 'cousin’s': 130, 'took': 131, 'sled': 132, 'frightened': 133, 'hold': 134, 'tight': 135, 'mountains': 136, 'feel': 137, 'free': 138, 'read': 139, 'much': 140, 'night': 141, 'go': 142, 'south': 143, 'clutch': 144, 'branches': 145, 'grow': 146, 'stony': 147, 'rubbish': 148, 'son': 149, 'cannot': 150, 'say': 151, 'guess': 152, 'know': 153, 'heap': 154, 'broken': 155, 'images': 156, 'sun': 157, 'beats': 158, 'tree': 159, 'gives': 160, 'shelter': 161, 'cricket': 162, 'relief': 163, 'dry': 164, 'stone': 165, 'come': 166, 'different': 167, 'either': 168, 'morning': 169, 'striding': 170, 'behind': 171, 'evening': 172, 'rising': 173, 'meet': 174, 'handful': 175, 'dust': 176, 'frisch': 177, 'weht': 178, 'wind': 179, 'heimat': 180, 'zu': 181, 'mein': 182, 'irisch': 183, 'kind': 184, 'wo': 185, 'weilest': 186, 'du': 187, 'gave': 188, 'hyacinths': 189, 'first': 190, 'ago': 191, 'they': 192, 'called': 193, 'girl': 194, '—yet': 195, 'came': 196, 'late': 197, 'arms': 198, 'full': 199, 'hair': 200, 'wet': 201, 'could': 202, 'speak': 203, 'failed': 204, 'neither': 205, 'living': 206, 'nor': 207, 'nothing': 208, 'looking': 209, 'heart': 210, 'light': 211, 'silence': 212, 'oed’': 213, 'und': 214, 'leer': 215, 'das': 216, 'meer': 217, 'madame': 218, 'sosostris': 219, 'famous': 220, 'clairvoyante': 221, 'bad': 222, 'cold': 223, 'nevertheless': 224, 'known': 225, 'wisest': 226, 'woman': 227, 'europe': 228, 'wicked': 229, 'pack': 230, 'cards': 231, 'she': 232, 'drowned': 233, 'phoenician': 234, 'sailor': 235, 'those': 236, 'pearls': 237, 'look': 238, 'belladonna': 239, 'rocks': 240, 'situations': 241, 'three': 242, 'staves': 243, 'wheel': 244, 'eyed': 245, 'merchant': 246, 'blank': 247, 'carries': 248, 'am': 249, 'forbidden': 250, 'do': 251, 'find': 252, 'hanged': 253, 'by': 254, 'crowds': 255, 'people': 256, 'walking': 257, 'round': 258, 'ring': 259, 'thank': 260, 'if': 261, 'dear': 262, 'mrs': 263, 'equitone': 264, 'tell': 265, 'her': 266, 'bring': 267, 'horoscope': 268, 'myself': 269, 'must': 270, 'careful': 271, 'these': 272, 'days': 273, 'unreal': 274, 'city': 275, 'brown': 276, 'fog': 277, 'dawn': 278, 'crowd': 279, 'london': 280, 'bridge': 281, 'thought': 282, 'undone': 283, 'sighs': 284, 'short': 285, 'infrequent': 286, 'exhaled': 287, 'each': 288, 'fixed': 289, 'before': 290, 'feet': 291, 'hill': 292, 'king': 293, 'william': 294, 'street': 295, 'saint': 296, 'mary': 297, 'woolnoth': 298, 'hours': 299, 'final': 300, 'stroke': 301, 'nine': 302, 'saw': 303, 'him': 304, 'crying': 305, 'stetson': 306, 'who': 307, 'ships': 308, 'mylae': 309, 'corpse': 310, 'planted': 311, 'last': 312, 'begun': 313, 'sprout': 314, 'bloom': 315, 'sudden': 316, 'frost': 317, 'disturbed': 318, 'its': 319, 'bed': 320, 'oh': 321, 'keep': 322, 'dog': 323, 'far': 324, 'hence': 325, 'that’s': 326, 'friend': 327, 'men': 328, 'nails': 329, 'he’ll': 330, 'dig': 331, 'again': 332, 'hypocrite': 333, 'lecteur': 334, 'semblable': 335, 'frère': 336}\n"
          ],
          "name": "stdout"
        }
      ]
    },
    {
      "cell_type": "code",
      "metadata": {
        "id": "kh8IAcD8hvI2",
        "colab_type": "code",
        "colab": {
          "base_uri": "https://localhost:8080/",
          "height": 102
        },
        "outputId": "9a784ba6-6988-4d69-d9db-2a81491f5891"
      },
      "source": [
        "import numpy as np\n",
        "\n",
        "input_sequence = []\n",
        "\n",
        "for line in corpus:\n",
        "  token_list = tokenizer.texts_to_sequences([line])[0]       #  [82, 8, 1, 83, 84, 85]\n",
        "  for i in range(1, len(token_list)):\n",
        "    n_gram_sequence = token_list[:i+1]\n",
        "    input_sequence.append(n_gram_sequence)                  # all input sequences\n",
        "\n",
        "# pad sequence\n",
        "max_lenth_sequence = max([len(x) for x in input_sequence])\n",
        "input_sequence = np.array(pad_sequences(input_sequence, maxlen=max_lenth_sequence, padding='pre'))\n",
        "\n",
        "\n",
        "# create predictor label\n",
        "xs, labels = input_sequence[:, :-1], input_sequence[:, -1]\n",
        "ys = tf.keras.utils.to_categorical(labels, num_classes=total_words)\n",
        "\n",
        "print(\"corpus: \", len(corpus))\n",
        "print(\"input sequences: \", input_sequence.shape)\n",
        "print(\"xs: \", xs.shape)\n",
        "print(\"labels: \", labels.shape)\n",
        "print(\"ys: \", ys.shape)       # 2-D array of one hot vectors of each word"
      ],
      "execution_count": 23,
      "outputs": [
        {
          "output_type": "stream",
          "text": [
            "input sequences:  (515, 12)\n",
            "corpus:  77\n",
            "xs:  (515, 11)\n",
            "labels:  (515,)\n",
            "ys:  (515, 337)\n"
          ],
          "name": "stdout"
        }
      ]
    },
    {
      "cell_type": "code",
      "metadata": {
        "id": "keWmgv5EiP9W",
        "colab_type": "code",
        "colab": {
          "base_uri": "https://localhost:8080/",
          "height": 34
        },
        "outputId": "ef44ba3d-0197-4a0b-f874-3102f2fc8a5e"
      },
      "source": [
        "print(xs[10])"
      ],
      "execution_count": 26,
      "outputs": [
        {
          "output_type": "stream",
          "text": [
            "[ 0  0  0  0  0 86 24  3  1 16 87]\n"
          ],
          "name": "stdout"
        }
      ]
    },
    {
      "cell_type": "code",
      "metadata": {
        "id": "2jiGPOxGsMg4",
        "colab_type": "code",
        "colab": {
          "base_uri": "https://localhost:8080/",
          "height": 272
        },
        "outputId": "42aa6dd3-ddb8-400e-f997-17c72867bc3f"
      },
      "source": [
        "print(ys[10])       # one hot vector of the next word"
      ],
      "execution_count": 27,
      "outputs": [
        {
          "output_type": "stream",
          "text": [
            "[0. 0. 0. 0. 0. 0. 0. 0. 0. 0. 0. 0. 0. 0. 0. 0. 0. 0. 0. 0. 0. 0. 0. 0.\n",
            " 0. 0. 0. 0. 0. 0. 0. 0. 0. 0. 0. 0. 0. 0. 0. 0. 0. 0. 0. 0. 0. 0. 0. 0.\n",
            " 0. 0. 0. 0. 0. 0. 0. 0. 0. 0. 0. 0. 0. 0. 0. 0. 0. 0. 0. 0. 0. 0. 0. 0.\n",
            " 0. 0. 0. 0. 0. 0. 0. 0. 0. 0. 0. 0. 0. 0. 0. 0. 1. 0. 0. 0. 0. 0. 0. 0.\n",
            " 0. 0. 0. 0. 0. 0. 0. 0. 0. 0. 0. 0. 0. 0. 0. 0. 0. 0. 0. 0. 0. 0. 0. 0.\n",
            " 0. 0. 0. 0. 0. 0. 0. 0. 0. 0. 0. 0. 0. 0. 0. 0. 0. 0. 0. 0. 0. 0. 0. 0.\n",
            " 0. 0. 0. 0. 0. 0. 0. 0. 0. 0. 0. 0. 0. 0. 0. 0. 0. 0. 0. 0. 0. 0. 0. 0.\n",
            " 0. 0. 0. 0. 0. 0. 0. 0. 0. 0. 0. 0. 0. 0. 0. 0. 0. 0. 0. 0. 0. 0. 0. 0.\n",
            " 0. 0. 0. 0. 0. 0. 0. 0. 0. 0. 0. 0. 0. 0. 0. 0. 0. 0. 0. 0. 0. 0. 0. 0.\n",
            " 0. 0. 0. 0. 0. 0. 0. 0. 0. 0. 0. 0. 0. 0. 0. 0. 0. 0. 0. 0. 0. 0. 0. 0.\n",
            " 0. 0. 0. 0. 0. 0. 0. 0. 0. 0. 0. 0. 0. 0. 0. 0. 0. 0. 0. 0. 0. 0. 0. 0.\n",
            " 0. 0. 0. 0. 0. 0. 0. 0. 0. 0. 0. 0. 0. 0. 0. 0. 0. 0. 0. 0. 0. 0. 0. 0.\n",
            " 0. 0. 0. 0. 0. 0. 0. 0. 0. 0. 0. 0. 0. 0. 0. 0. 0. 0. 0. 0. 0. 0. 0. 0.\n",
            " 0. 0. 0. 0. 0. 0. 0. 0. 0. 0. 0. 0. 0. 0. 0. 0. 0. 0. 0. 0. 0. 0. 0. 0.\n",
            " 0.]\n"
          ],
          "name": "stdout"
        }
      ]
    },
    {
      "cell_type": "code",
      "metadata": {
        "id": "Ki8OoLocsSv5",
        "colab_type": "code",
        "colab": {}
      },
      "source": [
        "model = Sequential()\n",
        "model.add(Embedding(total_words, 64, input_length=max_lenth_sequence-1))\n",
        "model.add(Bidirectional(LSTM(20)))\n",
        "model.add(Dense(total_words, activation='softmax'))\n",
        "model.compile(loss=\"categorical_crossentropy\", optimizer=\"adam\", metrics=[\"accuracy\"])\n",
        "history = model.fit(xs, ys, epochs=500, verbose=1)"
      ],
      "execution_count": 0,
      "outputs": []
    },
    {
      "cell_type": "code",
      "metadata": {
        "id": "v1TaZYQjtvQG",
        "colab_type": "code",
        "colab": {}
      },
      "source": [
        "import matplotlib.pyplot as plt\n",
        "\n",
        "def plot_graphs(history, string):\n",
        "  plt.plot(history.history[string])\n",
        "  plt.xlabel(\"Epochs\")\n",
        "  plt.ylabel(string)\n",
        "  plt.show()"
      ],
      "execution_count": 0,
      "outputs": []
    },
    {
      "cell_type": "code",
      "metadata": {
        "id": "Fcjk8kr1uScz",
        "colab_type": "code",
        "colab": {
          "base_uri": "https://localhost:8080/",
          "height": 279
        },
        "outputId": "92bc458e-ee7b-498e-c83d-7cd1e1aa959f"
      },
      "source": [
        "plot_graphs(history, 'accuracy')"
      ],
      "execution_count": 32,
      "outputs": [
        {
          "output_type": "display_data",
          "data": {
            "image/png": "[encoded data removed]",
            "text/plain": [
              "<Figure size 432x288 with 1 Axes>"
            ]
          },
          "metadata": {
            "tags": []
          }
        }
      ]
    },
    {
      "cell_type": "code",
      "metadata": {
        "id": "jexy0zY7uUZ2",
        "colab_type": "code",
        "colab": {
          "base_uri": "https://localhost:8080/",
          "height": 280
        },
        "outputId": "2a879ec6-a0c0-47c1-b596-508e20e59189"
      },
      "source": [
        "plot_graphs(history, 'loss')"
      ],
      "execution_count": 33,
      "outputs": [
        {
          "output_type": "display_data",
          "data": {
            "image/png": "[encoded data removed]",
            "text/plain": [
              "<Figure size 432x288 with 1 Axes>"
            ]
          },
          "metadata": {
            "tags": []
          }
        }
      ]
    },
    {
      "cell_type": "code",
      "metadata": {
        "id": "ml3qTVw5u2iv",
        "colab_type": "code",
        "colab": {
          "base_uri": "https://localhost:8080/",
          "height": 54
        },
        "outputId": "e9397925-f67a-42df-dab0-1ac7f687d19f"
      },
      "source": [
        "seed_text = \"Laurence went to dublin\"\n",
        "next_words = 100\n",
        "\n",
        "for _ in range(next_words):\n",
        "  token_list = tokenizer.texts_to_sequences([seed_text])[0]\n",
        "  token_list = pad_sequences([token_list], maxlen=max_lenth_sequence-1, padding='pre')\n",
        "  predicted = model.predict_classes(token_list, verbose=0)\n",
        "  output_word = \"\"\n",
        "\n",
        "  for word, index in tokenizer.word_index.items():\n",
        "    if index == predicted:\n",
        "      output_word = word\n",
        "      break\n",
        "  seed_text += \" \" + output_word\n",
        "\n",
        "print(seed_text)"
      ],
      "execution_count": 36,
      "outputs": [
        {
          "output_type": "stream",
          "text": [
            "Laurence went to dublin see i knew and down king crying stetson wind wind wind grow grow mountains grow grow grow there men full full full full full full children staying at be be be in the the der days der days der deutsch der deutsch famous grow der deutsch wind wind wind wind wind wind could surprised keep keep nine it water only wheel that’s friend to no in to into forbidden forbidden full late you the the silence disturbed its dawn water only only only friend short show has up again corpse to in winter winter woman to men europe in you\n"
          ],
          "name": "stdout"
        }
      ]
    },
    {
      "cell_type": "code",
      "metadata": {
        "id": "GcWwYICmwu51",
        "colab_type": "code",
        "colab": {}
      },
      "source": [
        ""
      ],
      "execution_count": 0,
      "outputs": []
    }
  ]
}